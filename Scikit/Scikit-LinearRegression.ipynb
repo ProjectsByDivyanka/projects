{
 "cells": [
  {
   "cell_type": "code",
   "execution_count": null,
   "id": "9bee593c",
   "metadata": {},
   "outputs": [],
   "source": [
    "import pandas as pd\n",
    "import numpy as np\n",
    "from sklearn.model_selection import train_test_split \n",
    "from sklearn.linear_model import LinearRegression\n",
    "\n",
    "#step 2\n",
    "Divdata = {'Hours_Study':[2,3,4,5,6,7,8,9,10],'Exam_Score':[50,60,65,70,75,80,85,90,95]}\n",
    "\n",
    "#step 3\n",
    "df = pd.DataFrame(Divdata)\n",
    "\n",
    "#step 4\n",
    "X = df[['Hours_Study']]\n",
    "y = df[['Exam_Score']]\n",
    "\n",
    "#step 5 only check 20 percent of data 0.2\n",
    "X_train, X_test, y_train,y_test = train_test_split(X,y, test_size = 0.2,random_state=42)\n",
    "    \n",
    "\n",
    "#Step 6 \n",
    "model = LinearRegression()\n",
    "\n",
    "#step 7\n",
    "model.fit(X_train,y_train)\n",
    "\n",
    "# test our model use float bcaz hours in numbers\n",
    "user_input = float(input(\"Enter the number of hours you study:\"))\n",
    "\n",
    "Predicted_Score = model.predict([[user_input]])\n",
    "\n",
    "#Print the output\n",
    "print(f\"Predicted Exam Score: {Predicted_Score[0]:.2f}\")"
   ]
  },
  {
   "cell_type": "code",
   "execution_count": null,
   "id": "749ea071",
   "metadata": {},
   "outputs": [],
   "source": []
  }
 ],
 "metadata": {
  "kernelspec": {
   "display_name": "Python 3 (ipykernel)",
   "language": "python",
   "name": "python3"
  },
  "language_info": {
   "codemirror_mode": {
    "name": "ipython",
    "version": 3
   },
   "file_extension": ".py",
   "mimetype": "text/x-python",
   "name": "python",
   "nbconvert_exporter": "python",
   "pygments_lexer": "ipython3",
   "version": "3.9.13"
  }
 },
 "nbformat": 4,
 "nbformat_minor": 5
}
