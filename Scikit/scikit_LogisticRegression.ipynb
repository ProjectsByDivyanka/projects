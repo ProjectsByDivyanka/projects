{
 "cells": [
  {
   "cell_type": "code",
   "execution_count": 9,
   "id": "9cfa7a71",
   "metadata": {},
   "outputs": [
    {
     "name": "stdout",
     "output_type": "stream",
     "text": [
      "Model Accuracy: 1.0\n",
      "Enter customer age: 25\n",
      "Enter Time spent on website: 30\n",
      "Enter 1 if added to cart, else enter 0: 1\n",
      "The customer is unlikely to purchase\n"
     ]
    }
   ],
   "source": [
    "import numpy as np\n",
    "from sklearn.model_selection import train_test_split\n",
    "from sklearn.linear_model import LogisticRegression\n",
    "\n",
    "# Sample data\n",
    "X = np.array([[25, 30, 0], [30, 40, 1], [20, 35, 0], [35, 45, 1]])\n",
    "y = np.array([0, 1, 0, 1])\n",
    "\n",
    "# Splitting data\n",
    "X_train, X_test, y_train, y_test = train_test_split(X, y, test_size=0.2, random_state=42)\n",
    "\n",
    "# Logistic Regression model\n",
    "model = LogisticRegression()\n",
    "model.fit(X_train, y_train)\n",
    "\n",
    "# Model accuracy\n",
    "accuracy = model.score(X_test, y_test)\n",
    "print(f\"Model Accuracy: {accuracy}\")\n",
    "\n",
    "# User input\n",
    "user_age = float(input(\"Enter customer age: \"))\n",
    "user_time_spent = float(input(\"Enter Time spent on website: \"))\n",
    "user_added_to_cart = int(input(\"Enter 1 if added to cart, else enter 0: \"))\n",
    "\n",
    "# Predicting\n",
    "user_data = np.array([[user_age, user_time_spent, user_added_to_cart]])\n",
    "prediction = model.predict(user_data)\n",
    "\n",
    "# Output prediction\n",
    "if prediction[0] == 1:\n",
    "    print(\"The customer is likely to purchase\")\n",
    "else:\n",
    "    print(\"The customer is unlikely to purchase\")\n"
   ]
  },
  {
   "cell_type": "code",
   "execution_count": null,
   "id": "49546f15",
   "metadata": {},
   "outputs": [],
   "source": []
  }
 ],
 "metadata": {
  "kernelspec": {
   "display_name": "Python 3 (ipykernel)",
   "language": "python",
   "name": "python3"
  },
  "language_info": {
   "codemirror_mode": {
    "name": "ipython",
    "version": 3
   },
   "file_extension": ".py",
   "mimetype": "text/x-python",
   "name": "python",
   "nbconvert_exporter": "python",
   "pygments_lexer": "ipython3",
   "version": "3.9.13"
  }
 },
 "nbformat": 4,
 "nbformat_minor": 5
}
